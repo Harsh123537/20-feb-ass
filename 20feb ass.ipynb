{
 "cells": [
  {
   "cell_type": "markdown",
   "id": "b18d1496-f1f5-441c-b703-ed385bc39c32",
   "metadata": {},
   "source": [
    "Q1. Explain GET and POST methods."
   ]
  },
  {
   "cell_type": "markdown",
   "id": "9f5840c6-7205-41e5-9237-e1aebed5bbe8",
   "metadata": {},
   "source": [
    "GET methods are used to send the query to the server through the url link whereas POST methods are used to send the query to server through form"
   ]
  },
  {
   "cell_type": "markdown",
   "id": "dd9e4338-f131-41dc-9aa0-b7d2ed39baf0",
   "metadata": {},
   "source": [
    "Q2. Why is request used in Flask?"
   ]
  },
  {
   "cell_type": "markdown",
   "id": "2e16917b-8500-4d16-b197-667530b83a93",
   "metadata": {},
   "source": [
    "The request module in Flask is used to handle HTTP requests that are sent from a client to a Flask web application. The HTTP request contains information such as the URL, headers, cookies, and form data submitted by the user. The request module allows you to access this information and use it to process the request and generate an appropriate response."
   ]
  },
  {
   "cell_type": "markdown",
   "id": "49ad7dc0-6706-4f90-8e7c-7c5a8b71c67f",
   "metadata": {},
   "source": [
    "Q3. Why is redirect() used in Flask?"
   ]
  },
  {
   "cell_type": "markdown",
   "id": "82512872-2045-454f-9fce-00e1303dc45d",
   "metadata": {},
   "source": [
    "In Flask, the redirect() function is used to redirect the user to a different route or URL within the same application or to an external URL. It returns a response object that instructs the user's web browser to navigate to the specified URL."
   ]
  },
  {
   "cell_type": "markdown",
   "id": "b95b44da-4e46-421c-bff7-7a4a6d59d1d6",
   "metadata": {},
   "source": [
    "Q4. What are templates in Flask? Why is the render_template() function used?"
   ]
  },
  {
   "cell_type": "markdown",
   "id": "65149ac7-e7c7-4e1b-a30a-a87ccac61085",
   "metadata": {},
   "source": [
    "In Flask, templates are files that contain the structure of the HTML pages that are going to be served by the web application. They allow developers to separate the presentation layer from the business logic layer of the application, making it easier to maintain and modify the code.\n",
    "\n",
    "The render_template() function is used in Flask to render a template file and generate an HTML page. It takes the name of the template file as its first argument, and optional keyword arguments that represent the variables to be passed to the template."
   ]
  },
  {
   "cell_type": "markdown",
   "id": "464a2ca6-259d-4511-bcf3-d2bc47831814",
   "metadata": {},
   "source": [
    "Q5. Create a simple API. Use Postman to test it. Attach the screenshot of the output in the Jupyter Notebook."
   ]
  },
  {
   "cell_type": "markdown",
   "id": "da409ef6-1781-4476-8949-6ca2a7cc15b3",
   "metadata": {},
   "source": [
    "@app.route('/postdata',methods=['POST'])\n",
    "def math_ops2():\n",
    "    if(request.method == 'POST'):\n",
    "        ops = request.json['operation']\n",
    "        num1 = int(request.json['num1'])\n",
    "        num2 = int(request.json['num2'])\n",
    "        if ops == 'add':\n",
    "            r = num1+num2\n",
    "            result = \"The sum of \" + str(num1) + 'and ' + str(num2) + \"is \" + str(r)\n",
    "        if ops == 'subtract':\n",
    "            r = num1-num2\n",
    "            result = \"The subtract of \" + str(num1) + 'and ' + str(num2) + \"is \" + str(r)\n",
    "        if ops == 'multiply':\n",
    "            r = num1*num2\n",
    "            result = \"The multiply of \" + str(num1) + 'and ' + str(num2) + \"is \" + str(r)\n",
    "        if ops == 'divide':\n",
    "            r = num1/num2\n",
    "            result = \"The divide of \" + str(num1) + 'and ' + str(num2) + \"is \" + str(r)\n",
    "            \n",
    "        return jsonify(result)"
   ]
  },
  {
   "attachments": {
    "f4b08a6f-063b-48c6-9ac6-e162492f1e90.png": {
     "image/png": "[encoded data removed]"
    }
   },
   "cell_type": "markdown",
   "id": "e672d847-ed2c-44ef-b0f8-3ab1115dfcb5",
   "metadata": {},
   "source": [
    "![image.png](attachment:f4b08a6f-063b-48c6-9ac6-e162492f1e90.png)"
   ]
  },
  {
   "cell_type": "code",
   "execution_count": null,
   "id": "68f6dc28-5e6c-47ba-b176-c8f0fca3d7e5",
   "metadata": {},
   "outputs": [],
   "source": []
  }
 ],
 "metadata": {
  "kernelspec": {
   "display_name": "Python 3 (ipykernel)",
   "language": "python",
   "name": "python3"
  },
  "language_info": {
   "codemirror_mode": {
    "name": "ipython",
    "version": 3
   },
   "file_extension": ".py",
   "mimetype": "text/x-python",
   "name": "python",
   "nbconvert_exporter": "python",
   "pygments_lexer": "ipython3",
   "version": "3.10.8"
  }
 },
 "nbformat": 4,
 "nbformat_minor": 5
}
